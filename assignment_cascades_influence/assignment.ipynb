{
 "cells": [
  {
   "cell_type": "markdown",
   "metadata": {},
   "source": [
    "# Assignment — Cascades and influence maximization"
   ]
  },
  {
   "cell_type": "code",
   "execution_count": null,
   "metadata": {},
   "outputs": [],
   "source": [
    "from zlib import adler32\n",
    "import networkx as nx\n",
    "import matplotlib.pyplot as plt\n",
    "import numpy as np\n",
    "from matplotlib.animation import FuncAnimation\n",
    "from IPython.display import HTML"
   ]
  },
  {
   "cell_type": "markdown",
   "metadata": {},
   "source": [
    "This part of the assignment is devoted to models of influence propagation: the linear threshold model and independent cascade model. There are many applications of these types of models, for example:\n",
    "* Rise of a political movement in an unstable society\n",
    "* “Word-of-mouth” effects: when we have access to plentiful information, such as when we evaluate new technologies, risky financial assets, or job candidates, we often lack the ability to make sense of it; hence, we rely on the advice of trusted friends, colleagues, or advisors\n",
    "* “Viral marketing” effects in the success of new products\n",
    "* Adoption of medical and agricultural innovations\n",
    "* Cascading failures in power systems\n",
    "* Desicion making by majority voting\n",
    "\n",
    "Let us consider these models on directed Erdos Renyi graph."
   ]
  },
  {
   "cell_type": "code",
   "execution_count": null,
   "metadata": {},
   "outputs": [],
   "source": [
    "n = 20\n",
    "G = nx.erdos_renyi_graph(n, 0.11, 0, True)\n",
    "\n",
    "plt.figure(figsize=(6, 4))\n",
    "pos = nx.kamada_kawai_layout(G)\n",
    "nx.draw(G, pos, with_labels=True, node_color='white', edgecolors='black')"
   ]
  },
  {
   "cell_type": "markdown",
   "metadata": {},
   "source": [
    "### Task 1. Linear threshold model (0 points)"
   ]
  },
  {
   "cell_type": "markdown",
   "metadata": {},
   "source": [
    "Linear threshold model is defined as follows. Given a choice of all nodes’ thresholds, and an initial set of active nodes, the diffusion process unfolds deterministically in discrete steps: in step $t$, all nodes that were\n",
    "active in step $t-1$ remain active; furthermore, each currently inactive node becomes active if and only\n",
    "if the total share of its active neighbors is at least node's threshold.\n",
    "\n",
    "Write a function `linear_threshold` that takes a graph, np.array `active_nodes` with zeros and ones (if `active_nodes[i]` is 1 then the i-th node is active), np.array of `thresholds`. The function propagates influence and stops when the model stops changing. The function returns a np.array with active nodes in each step. The first step is initial activation, the last and the second to last steps are the same (we want to see that the propogation stops changing)."
   ]
  },
  {
   "cell_type": "code",
   "execution_count": null,
   "metadata": {
    "deletable": false,
    "nbgrader": {
     "cell_type": "code",
     "checksum": "26b04476cb17bab7e6003418f9408a69",
     "grade": false,
     "grade_id": "cell-515144b932e0af91",
     "locked": false,
     "schema_version": 3,
     "solution": true,
     "task": false
    }
   },
   "outputs": [],
   "source": [
    "def linear_threshold(G, active_nodes, thresholds):\n",
    "    # YOUR CODE HERE\n",
    "    raise NotImplementedError()"
   ]
  },
  {
   "cell_type": "code",
   "execution_count": null,
   "metadata": {
    "deletable": false,
    "editable": false,
    "nbgrader": {
     "cell_type": "code",
     "checksum": "54149ad34b632f21cade914cff2954d8",
     "grade": true,
     "grade_id": "cell-a0c0e429d4f73e24",
     "locked": true,
     "points": 0.0,
     "schema_version": 3,
     "solution": false,
     "task": false
    }
   },
   "outputs": [],
   "source": [
    "np.random.seed(5)\n",
    "active_nodes = np.zeros(n, 'int')\n",
    "active_nodes[np.random.choice(np.arange(n), 2, False)] = 1\n",
    "thresholds = np.random.uniform(0.5, 1, n)\n",
    "\n",
    "sim = linear_threshold(G, active_nodes, thresholds)\n",
    "\n",
    "assert sim.shape == (4, 20)\n",
    "assert np.all(sim[0] == active_nodes)\n",
    "assert np.all(sim[-1] == sim[-2])\n",
    "assert sim[0, 4] == 0\n",
    "assert sim[2, 4] == 1\n",
    "assert sim[0, 3] == 0\n",
    "assert sim[1, 15] == 1"
   ]
  },
  {
   "cell_type": "code",
   "execution_count": null,
   "metadata": {},
   "outputs": [],
   "source": [
    "plt.figure(figsize=(6*2, 4*2))\n",
    "\n",
    "for i, color in enumerate(sim):\n",
    "    plt.subplot(2, 2, i+1)\n",
    "    nx.draw(G, pos, with_labels=True, \n",
    "            node_color=color+1, \n",
    "            vmin=0, vmax=2, \n",
    "            cmap=plt.cm.rainbow,\n",
    "            edgecolors='black')\n",
    "    plt.title('Step {}'.format(i))\n",
    "plt.show()"
   ]
  },
  {
   "cell_type": "markdown",
   "metadata": {},
   "source": [
    "### Task 2. Independent cascade model (3 points)"
   ]
  },
  {
   "cell_type": "markdown",
   "metadata": {},
   "source": [
    "The next type is Independent cascade model. We again start with an initial set of active nodes, and the process unfolds in discrete steps according to the following randomized rule. When node $v$ first becomes active in step $t$, it is given a single chance to activate each currently inactive neighbor $w$; it succeeds with a probability $p_{v,w}$ — a parameter of the system — independently of the history thus far. (If $w$ has multiple newly activated neighbors, their attempts are sequenced in an arbitrary order.) If $v$ succeeds, then $w$ will become active in step $t+1$; but whether or not $v$ succeeds, it cannot make any further attempts to activate $w$ in subsequent steps.\n",
    "\n",
    "Write a function `independent_cascade` that takes a graph, np.array active_nodes with zeros and ones (if active_nodes[i] is 1 then the i-th node is active), np.array with propagation probabilities `prop_proba` for edges ordered by `G.edges`. The function propagates influence and stops when the model stops changing. The function returns a np.array with active nodes in each step. The first step is initial activation, the last and the second to last steps are the same (we want to see that the model stops changing)."
   ]
  },
  {
   "cell_type": "code",
   "execution_count": null,
   "metadata": {
    "deletable": false,
    "nbgrader": {
     "cell_type": "code",
     "checksum": "485b84d9d49345fdf82ee2964d68b5d0",
     "grade": false,
     "grade_id": "cell-69f6afdb2634041d",
     "locked": false,
     "schema_version": 3,
     "solution": true,
     "task": false
    }
   },
   "outputs": [],
   "source": [
    "def independent_cascade(G, active_nodes, prop_proba):\n",
    "    # YOUR CODE HERE\n",
    "    raise NotImplementedError()"
   ]
  },
  {
   "cell_type": "code",
   "execution_count": null,
   "metadata": {
    "deletable": false,
    "editable": false,
    "nbgrader": {
     "cell_type": "code",
     "checksum": "b94c42f4dded2280425bf48dff1d9f1f",
     "grade": true,
     "grade_id": "cell-3389d2c8f3368404",
     "locked": true,
     "points": 3.0,
     "schema_version": 3,
     "solution": false,
     "task": false
    }
   },
   "outputs": [],
   "source": [
    "np.random.seed(1)\n",
    "active_nodes = np.zeros(20, 'int')\n",
    "active_nodes[np.random.choice(np.arange(20), 2, False)] = 1\n",
    "prop_proba = np.random.rand(len(G.edges))\n",
    "\n",
    "sims = []\n",
    "n_steps = []\n",
    "for i in range(1000):\n",
    "    sim = independent_cascade(G, active_nodes, prop_proba)\n",
    "    sims.append(sim)\n",
    "    n_steps.append(len(sim))\n",
    "sigma = 1.9165\n",
    "mean = 5.103\n",
    "assert mean - 2*sigma < np.mean(n_steps) < mean + 2*sigma\n",
    "sim = sims[n_steps.index(6)]\n",
    "assert sim.shape == (6, 20)\n",
    "assert np.all(sim[0] == active_nodes)\n",
    "assert np.all(sim[-1] == sim[-2])\n",
    "for i in range(1, 4):\n",
    "    attempts = sim[i] - sim[i-1]\n",
    "    new_active = sim[i+1] - sim[i]\n",
    "    has_edge = False\n",
    "    for j in np.argwhere(attempts == 1):\n",
    "        for k in np.argwhere(new_active == 1):\n",
    "            if G.has_edge(j[0], k[0]):\n",
    "                has_edge = True\n",
    "    assert has_edge"
   ]
  },
  {
   "cell_type": "code",
   "execution_count": null,
   "metadata": {},
   "outputs": [],
   "source": [
    "plt.figure(figsize=(6*2, 4*3))\n",
    "\n",
    "for i, color in enumerate(sim):\n",
    "    plt.subplot(3, 2, i+1)\n",
    "    nx.draw(G, pos, with_labels=True, \n",
    "            node_color=color+1, \n",
    "            vmin=0, vmax=2, \n",
    "            cmap=plt.cm.rainbow,\n",
    "            edgecolors='black')\n",
    "    plt.title('Step {}'.format(i))\n",
    "plt.show()"
   ]
  },
  {
   "cell_type": "markdown",
   "metadata": {},
   "source": [
    "### Task 3. Influence maximization problem (0 points)"
   ]
  },
  {
   "cell_type": "markdown",
   "metadata": {},
   "source": [
    "The influence is the expected number of active nodes at the end of the process\n",
    "\n",
    "$$\\sigma(A_0) = \\mathbb E[|A_t|]$$\n",
    "\n",
    "where $A_0$ is an initial active nodes and $A_t$ is an active nodes at the end. Linear threshold model is deterministic and then $E[|A_t|] = |A_t|$.\n",
    "\n",
    "The influence maximization problem asks, for a given number of initial active nodes $k$, to find a set of nodes that gives maximum influence. It is NP-hard problem, but a useful property is that it can be solved in polynomial time by greedy optimization with guaranteed performance slightly better than 63%. Proofs are [here](https://theoryofcomputing.org/articles/v011a004/v011a004.pdf). The algorithm is:\n",
    "\n",
    "1. Let $A_0 = \\emptyset$\n",
    "2. For every node $i$, calculate the influence $\\sigma(A_0 \\cup \\{i\\})$\n",
    "3. Put the node with the largest influence into the initial active set $A_0 = A_0 \\cup \\{i\\}$\n",
    "4. Repeat 2-3 until $|A_0| = k$\n",
    "\n",
    "Write a function `greedy_influence_max` that takes a graph, `thresholds` of linear threshold model, number of active nodes `k` and calculates initial active nodes by greedy algorithm. The function returns a np.array with zeros and ones (if `active_nodes[i]` is 1 then the i-th node is active)."
   ]
  },
  {
   "cell_type": "code",
   "execution_count": null,
   "metadata": {
    "deletable": false,
    "nbgrader": {
     "cell_type": "code",
     "checksum": "588a67aa154b9090ddc92e5b42fdf5d1",
     "grade": false,
     "grade_id": "cell-ee934f2bc8c7504a",
     "locked": false,
     "schema_version": 3,
     "solution": true,
     "task": false
    }
   },
   "outputs": [],
   "source": [
    "def greedy_influence_max(G, thresholds, k):\n",
    "    # YOUR CODE HERE\n",
    "    raise NotImplementedError()"
   ]
  },
  {
   "cell_type": "code",
   "execution_count": null,
   "metadata": {
    "deletable": false,
    "editable": false,
    "nbgrader": {
     "cell_type": "code",
     "checksum": "e6eb18d066ef5af14c62e7b61f2eec33",
     "grade": true,
     "grade_id": "cell-58dc4b2003bdb792",
     "locked": true,
     "points": 0.0,
     "schema_version": 3,
     "solution": false,
     "task": false
    }
   },
   "outputs": [],
   "source": [
    "n = 100\n",
    "G = nx.erdos_renyi_graph(n, 0.07, 0, True)\n",
    "\n",
    "np.random.seed(0)\n",
    "active_nodes = np.zeros(n, 'int')\n",
    "active_nodes[np.random.choice(np.arange(n), 2, False)] = 1\n",
    "thresholds = np.random.uniform(0.1, 0.8, n)\n",
    "\n",
    "best_active = greedy_influence_max(G, thresholds, 2)\n",
    "assert best_active.shape == (100,)\n",
    "assert best_active.sum() == 2\n",
    "sim = linear_threshold(G, best_active, thresholds)\n",
    "assert sim[-1].sum() > 21 * 0.63"
   ]
  },
  {
   "cell_type": "markdown",
   "metadata": {},
   "source": [
    "Here is the same model as in the linear threshold task, but with a better initial active set."
   ]
  },
  {
   "cell_type": "code",
   "execution_count": null,
   "metadata": {},
   "outputs": [],
   "source": [
    "n = 20\n",
    "G = nx.erdos_renyi_graph(n, 0.11, 0, True)\n",
    "\n",
    "np.random.seed(5)\n",
    "active_nodes = np.zeros(n, 'int')\n",
    "active_nodes[np.random.choice(np.arange(n), 2, False)] = 1\n",
    "thresholds = np.random.uniform(0.5, 1, n)\n",
    "\n",
    "best_active = greedy_influence_max(G, thresholds, 2)\n",
    "sim = linear_threshold(G, best_active, thresholds)\n",
    "\n",
    "plt.figure(figsize=(6*2, 4*4))\n",
    "\n",
    "for i, color in enumerate(sim):\n",
    "    plt.subplot(4, 2, i+1)\n",
    "    nx.draw(G, pos, with_labels=True, \n",
    "            node_color=color+1, \n",
    "            vmin=0, vmax=2, \n",
    "            cmap=plt.cm.rainbow,\n",
    "            edgecolors='black')\n",
    "    plt.title('Step {}'.format(i))\n",
    "plt.show()"
   ]
  },
  {
   "cell_type": "markdown",
   "metadata": {},
   "source": [
    "### Task 4. Diffusion on networks (4 points)"
   ]
  },
  {
   "cell_type": "markdown",
   "metadata": {},
   "source": [
    "A diffusion process is a propagation model, where node values $\\phi$ (say, 'heat') spread out of high concentration zone. Consider the diffusion on grid of the size 20x20. Let there be a 3x3 sub-grid with a heat value 3 and a 7x5 sub-grid with a heat value 1. All other nodes has a value 0. The initial heat values is $\\phi_0$."
   ]
  },
  {
   "cell_type": "code",
   "execution_count": null,
   "metadata": {},
   "outputs": [],
   "source": [
    "phi_map = np.zeros((20, 20))\n",
    "phi_map[1:4, 1:4] = 3\n",
    "phi_map[10:15, 8:15] = 1\n",
    "phi0 = phi_map.flatten()"
   ]
  },
  {
   "cell_type": "code",
   "execution_count": null,
   "metadata": {},
   "outputs": [],
   "source": [
    "plt.figure(figsize=(7*0.7, 3*0.7))\n",
    "gridG = nx.grid_graph((20, 20))\n",
    "nx.draw_kamada_kawai(\n",
    "    gridG,\n",
    "    cmap=plt.cm.inferno_r,\n",
    "    vmin=0, vmax=3,\n",
    "    width=0,\n",
    "    node_size=40,\n",
    "    node_color=phi0)"
   ]
  },
  {
   "cell_type": "markdown",
   "metadata": {},
   "source": [
    "Create a diffusion simulation based on this diffusion equation\n",
    "\n",
    "$$\\frac{d\\phi}{dt} = -CL\\phi$$\n",
    "\n",
    "where $L$ is a graph Laplacian.\n",
    "\n",
    "Write a function `next_phi` that takes an adjacency matrix `A`, np.array with previous heat values `phi`, constant `C` and time increment `dt`. The function returns a np.array with the next heat values."
   ]
  },
  {
   "cell_type": "code",
   "execution_count": null,
   "metadata": {
    "deletable": false,
    "nbgrader": {
     "cell_type": "code",
     "checksum": "f1ae6723ed0fe6204738bfde1300ec10",
     "grade": false,
     "grade_id": "cell-f084b91a7a071038",
     "locked": false,
     "schema_version": 3,
     "solution": true,
     "task": false
    }
   },
   "outputs": [],
   "source": [
    "def next_phi(A, phi, C, dt):\n",
    "    # YOUR CODE HERE\n",
    "    raise NotImplementedError()"
   ]
  },
  {
   "cell_type": "code",
   "execution_count": null,
   "metadata": {
    "deletable": false,
    "editable": false,
    "nbgrader": {
     "cell_type": "code",
     "checksum": "91cda0440d989e617274011994495e8f",
     "grade": true,
     "grade_id": "cell-77fa8098bedb8168",
     "locked": true,
     "points": 2.0,
     "schema_version": 3,
     "solution": false,
     "task": false
    }
   },
   "outputs": [],
   "source": [
    "A = nx.to_numpy_array(gridG)\n",
    "C = 0.1\n",
    "dt = 2\n",
    "phi = next_phi(A, phi0, C, dt)\n",
    "assert phi.shape == (400,)\n",
    "assert phi.sum() == phi0.sum()\n",
    "assert phi.std() < phi0.sum()\n",
    "assert round(phi[20:25].sum(), 4) == 7.2"
   ]
  },
  {
   "cell_type": "code",
   "execution_count": null,
   "metadata": {},
   "outputs": [],
   "source": [
    "plt.figure(figsize=(7*2, 3*3))\n",
    "\n",
    "phi = phi0\n",
    "for i in range(6):\n",
    "    plt.subplot(3, 2, i+1)\n",
    "    gridG = nx.grid_graph((20, 20))\n",
    "    nx.draw_kamada_kawai(\n",
    "        gridG,\n",
    "        cmap=plt.cm.inferno_r,\n",
    "        vmin=0, vmax=3,\n",
    "        width=0,\n",
    "        node_size=40,\n",
    "        node_color=phi)\n",
    "    plt.title('t = {}'.format(i*dt))\n",
    "    phi = next_phi(A, phi, C, dt)\n",
    "phi12 = phi"
   ]
  },
  {
   "cell_type": "markdown",
   "metadata": {},
   "source": [
    "We can run simulation step-by-step as long as we need, but fortunately, there is an analytical solution\n",
    "\n",
    "$$\\phi(t) = \\sum_k a_k(t) v_k = \\sum_k a_k(0) e^{-C\\lambda_k t} v_k$$\n",
    "\n",
    "where $a_k(t) = \\phi(t)^T v_k$ and $v_k$ is k-th smallest eigenvector of a Laplacian.\n",
    "\n",
    "Write a function `phi_t` that takes an adjacency matrix `A`, np.array with initial heat values `phi0`, constant `C` and time moment `t`. The function returns a np.array with the heat values at time moment `t`. Use `np.linalg.eigh` or `scipy.linalg.eigh` for a symmetric matrix."
   ]
  },
  {
   "cell_type": "code",
   "execution_count": null,
   "metadata": {
    "deletable": false,
    "nbgrader": {
     "cell_type": "code",
     "checksum": "3447b53bce3c5f3d50c6516d67bd24fa",
     "grade": false,
     "grade_id": "cell-aed913bdee3b3d1b",
     "locked": false,
     "schema_version": 3,
     "solution": true,
     "task": false
    }
   },
   "outputs": [],
   "source": [
    "def phi_t(A, phi0, C, t):\n",
    "    # YOUR CODE HERE\n",
    "    raise NotImplementedError()"
   ]
  },
  {
   "cell_type": "code",
   "execution_count": null,
   "metadata": {
    "deletable": false,
    "editable": false,
    "nbgrader": {
     "cell_type": "code",
     "checksum": "4d4e362e4a721f8b1bd9e23242072c2f",
     "grade": true,
     "grade_id": "cell-16e1ff822aa555a5",
     "locked": true,
     "points": 2.0,
     "schema_version": 3,
     "solution": false,
     "task": false
    }
   },
   "outputs": [],
   "source": [
    "assert phi_t(A, phi0, C, 0).shape == (400,)\n",
    "assert round(np.linalg.norm(phi0 - phi_t(A, phi0, C, 0)), 4) == 0\n",
    "assert round(np.linalg.norm(phi12 - phi_t(A, phi0, C, 12)), 4) < 0.4\n",
    "assert len(np.unique(phi_t(A, phi0, C, 10000).round(4))) == 1\n",
    "assert phi_t(A, phi0, C, 10000).round(4)[0] == phi0.sum() / len(phi0)"
   ]
  },
  {
   "cell_type": "code",
   "execution_count": null,
   "metadata": {},
   "outputs": [],
   "source": [
    "plt.figure(figsize=(7*2, 3*2))\n",
    "i = 1\n",
    "for t in [10, 20, 50, 100]:\n",
    "    plt.subplot(2, 2, i)\n",
    "    gridG = nx.grid_graph((20, 20))\n",
    "    nx.draw_kamada_kawai(\n",
    "        gridG,\n",
    "        cmap=plt.cm.inferno_r,\n",
    "        vmin=0, vmax=3,\n",
    "        width=0,\n",
    "        node_size=40,\n",
    "        node_color=phi_t(A, phi0, C, t))\n",
    "    plt.title('t = {}'.format(t))\n",
    "    i += 1"
   ]
  },
  {
   "cell_type": "markdown",
   "metadata": {},
   "source": [
    "### Task 5. Flow graph on biased random walk (3 points)"
   ]
  },
  {
   "cell_type": "markdown",
   "metadata": {},
   "source": [
    "In this task, we consider a concept of flow graphs, namely weighted networks where dynamics flows are embedded into the link weight. Flow graphs provide an integrated representation of the structure and dynamics of the system, which can then be analyzed with standard tools of network science. Recall that an unbiased random walk uses a transition matrix $P$ to calculate distribution vector $p(t)$\n",
    "\n",
    "$$p(t+1) = P^\\top p(t)$$\n",
    "\n",
    "$$P = D^{-1}A$$\n",
    "\n",
    "where $D$ is a degree matrix. Thereby, the probability to jump from $i$ to $j$ is \n",
    "\n",
    "$$P_{ij} = \\frac{A_{ij}}{d_i}$$\n",
    "\n",
    "That is, a walker select the next node uniformly from nearest neighbors. \n",
    "\n",
    "A biased random walk is defined as follows. Let each node $i$ be given a definite positive attribute $\\alpha_i$. Then a walker located at node $i$ decides to jump onto one of its neighbors, say $j$, with a probability proportional to $\\alpha_jA_{ij}$. Hence, the probability to jump from $i$ to $j$ is given by\n",
    "\n",
    "$$P_{ij} = \\frac{\\alpha_j A_{ij}}{\\sum_k \\alpha_k A_{ik}}$$\n",
    "\n",
    "The usefull property of a biased random walk is that it coincides with an unbiased random walks on a _flow graph_\n",
    "\n",
    "$$A'_{ij} = \\alpha_i A_{ij} \\alpha_j$$\n",
    "\n",
    "Let us build this graph and look at its structure."
   ]
  },
  {
   "cell_type": "code",
   "execution_count": null,
   "metadata": {},
   "outputs": [],
   "source": [
    "plt.figure(figsize=(5, 5))\n",
    "G = nx.karate_club_graph()\n",
    "pos = nx.kamada_kawai_layout(G)\n",
    "nx.draw(G, pos=pos)"
   ]
  },
  {
   "cell_type": "markdown",
   "metadata": {},
   "source": [
    "Build a few flow graphs using some centralities: degree, betweenness, eigenvalue.\n",
    "\n",
    "Write a function `degree_flow_graph` that takes a graph and returns a flow graph where $\\alpha_i$ is a degree centrality value of a node $i$. All weights are bounded by $\\alpha_i / \\max(\\alpha)$, that is the largest weight is 1.\n",
    "\n",
    "Functions `betweenness_flow_graph` and `eigenvector_flow_graph` have the same form, they are based on betweenness and eigenvalue centrality respectively."
   ]
  },
  {
   "cell_type": "code",
   "execution_count": null,
   "metadata": {
    "deletable": false,
    "nbgrader": {
     "cell_type": "code",
     "checksum": "22dc712bffb7868d43243b18fcb50155",
     "grade": false,
     "grade_id": "cell-c5d664db33c20859",
     "locked": false,
     "schema_version": 3,
     "solution": true,
     "task": false
    }
   },
   "outputs": [],
   "source": [
    "def degree_flow_graph(G):\n",
    "    # YOUR CODE HERE\n",
    "    raise NotImplementedError()"
   ]
  },
  {
   "cell_type": "code",
   "execution_count": null,
   "metadata": {
    "deletable": false,
    "editable": false,
    "nbgrader": {
     "cell_type": "code",
     "checksum": "28d494b27aa947732a704416e830371e",
     "grade": true,
     "grade_id": "cell-aeac82c1a653449e",
     "locked": true,
     "points": 0.75,
     "schema_version": 3,
     "solution": false,
     "task": false
    }
   },
   "outputs": [],
   "source": [
    "degreeG = degree_flow_graph(G)\n",
    "assert len(G) == len(degreeG)\n",
    "d_weight = np.array([d['weight'] for (u,v,d) in degreeG.edges(data=True)])\n",
    "assert round(d_weight.sum(), 4) == 17.8431\n",
    "assert round(d_weight[76], 4) == 0.5\n",
    "assert round(d_weight[33], 4) == 0.0588\n",
    "assert round(d_weight[31], 4) == 0.5882"
   ]
  },
  {
   "cell_type": "code",
   "execution_count": null,
   "metadata": {
    "deletable": false,
    "nbgrader": {
     "cell_type": "code",
     "checksum": "f7ab5844d13644464d17695f9c68a0ea",
     "grade": false,
     "grade_id": "cell-5bd22c843d833cd1",
     "locked": false,
     "schema_version": 3,
     "solution": true,
     "task": false
    }
   },
   "outputs": [],
   "source": [
    "def betweenness_flow_graph(G):\n",
    "    # YOUR CODE HERE\n",
    "    raise NotImplementedError()"
   ]
  },
  {
   "cell_type": "code",
   "execution_count": null,
   "metadata": {
    "deletable": false,
    "editable": false,
    "nbgrader": {
     "cell_type": "code",
     "checksum": "a348465eec5cab10fb733f13ba4cca26",
     "grade": true,
     "grade_id": "cell-a6e0098ac3d2377a",
     "locked": true,
     "points": 0.75,
     "schema_version": 3,
     "solution": false,
     "task": false
    }
   },
   "outputs": [],
   "source": [
    "betweennessG = betweenness_flow_graph(G)\n",
    "assert len(G) == len(betweennessG)\n",
    "b_weight = np.array([d['weight'] for (u,v,d) in betweennessG.edges(data=True)])\n",
    "assert round(b_weight.sum(), 4) == 7.5463\n",
    "assert round(b_weight[1], 4) == 1\n",
    "assert round(b_weight[33], 4) == 0.1571\n",
    "assert round(b_weight[31], 4) == 0.0041"
   ]
  },
  {
   "cell_type": "code",
   "execution_count": null,
   "metadata": {
    "deletable": false,
    "nbgrader": {
     "cell_type": "code",
     "checksum": "5e145839475a5715a70fd4570ccccf9d",
     "grade": false,
     "grade_id": "cell-e3ad7347716118fb",
     "locked": false,
     "schema_version": 3,
     "solution": true,
     "task": false
    }
   },
   "outputs": [],
   "source": [
    "def eigenvector_flow_graph(G):\n",
    "    # YOUR CODE HERE\n",
    "    raise NotImplementedError()"
   ]
  },
  {
   "cell_type": "code",
   "execution_count": null,
   "metadata": {
    "deletable": false,
    "editable": false,
    "nbgrader": {
     "cell_type": "code",
     "checksum": "a93b0d779122cdcf79bef544ae589d68",
     "grade": true,
     "grade_id": "cell-92123bc7b871cc55",
     "locked": true,
     "points": 0.75,
     "schema_version": 3,
     "solution": false,
     "task": false
    }
   },
   "outputs": [],
   "source": [
    "eigenvectorG = eigenvector_flow_graph(G)\n",
    "assert len(G) == len(eigenvectorG)\n",
    "e_weight = np.array([d['weight'] for (u,v,d) in eigenvectorG.edges(data=True)])\n",
    "assert round(e_weight.sum(), 4) == 29.1822\n",
    "assert round(e_weight[75], 4) == 0.5117\n",
    "assert round(e_weight[33], 4) == 0.1544\n",
    "assert round(e_weight[31], 4) == 0.8496"
   ]
  },
  {
   "cell_type": "code",
   "execution_count": null,
   "metadata": {},
   "outputs": [],
   "source": [
    "cases = [[degreeG, d_weight, 10, 'Degree'], \n",
    "         [betweennessG, b_weight, 10, 'Betweenness'], \n",
    "         [eigenvectorG, e_weight, 10, 'Eigenvector']]\n",
    "for graph, weight, scale, title in cases:\n",
    "    plt.figure(figsize=(5, 5))\n",
    "    nx.draw(graph, \n",
    "            pos,\n",
    "            node_size=100,\n",
    "            edgecolors='black',\n",
    "            node_color='tab:cyan',\n",
    "            width=weight*scale)\n",
    "    plt.title('{} flow graph'.format(title))\n",
    "    plt.show()"
   ]
  },
  {
   "cell_type": "markdown",
   "metadata": {},
   "source": [
    "Using unbiased random walk on an undirected graph, a probability of being on a node converges to a limit distribution vector\n",
    "\n",
    "$$\\lim_{t \\to \\infty} p(t) = \\pi$$\n",
    "\n",
    "$$\\pi_i = \\frac{d_i}{\\sum_j d_j}$$\n",
    "\n",
    "Similarly using biased random walks, it converges to a limit distribution vector\n",
    "\n",
    "$$\\pi_i' = \\frac{\\sum_j \\alpha_i A_{ij} \\alpha_j}{\\sum_{i,j} \\alpha_i A_{ij} \\alpha_j}$$\n",
    "\n",
    "Let us check this fact using an eigenvector flow graph.\n",
    "\n",
    "Write a function `k_limit_distribution` that takes a graph, a number of iterations `k` and returns a tuple of 2 np.arrays:\n",
    "* np.array of shape `(k+1, n)` where `n` is a number of nodes. i-th row contains distribution at time moment `t=i`. Here is a uniform distribution at `t=0`.\n",
    "* np.array with limit distribution"
   ]
  },
  {
   "cell_type": "code",
   "execution_count": null,
   "metadata": {
    "deletable": false,
    "nbgrader": {
     "cell_type": "code",
     "checksum": "76d2e7528f1bf6348cb7d793312e313a",
     "grade": false,
     "grade_id": "cell-ea788f29dfd55312",
     "locked": false,
     "schema_version": 3,
     "solution": true,
     "task": false
    }
   },
   "outputs": [],
   "source": [
    "def k_limit_distribution(G, k):\n",
    "    # YOUR CODE HERE\n",
    "    raise NotImplementedError()"
   ]
  },
  {
   "cell_type": "code",
   "execution_count": null,
   "metadata": {
    "deletable": false,
    "editable": false,
    "nbgrader": {
     "cell_type": "code",
     "checksum": "fd2100b1ee690648dcd7000e17280e31",
     "grade": true,
     "grade_id": "cell-1124737757c57a35",
     "locked": true,
     "points": 0.75,
     "schema_version": 3,
     "solution": false,
     "task": false
    }
   },
   "outputs": [],
   "source": [
    "K = 10\n",
    "k_d, limit_d = k_limit_distribution(eigenvectorG, K)\n",
    "assert k_d.shape == (11, 34)\n",
    "assert k_d[0].sum() == 1\n",
    "assert k_d.sum() == 11\n",
    "assert round(k_d[8, 8], 4) == 0.0528\n",
    "assert round(k_d[0, 13], 4) == 0.0294"
   ]
  },
  {
   "cell_type": "code",
   "execution_count": null,
   "metadata": {},
   "outputs": [],
   "source": [
    "plt.figure(figsize=(6,6))\n",
    "for k, alpha in enumerate(np.linspace(0.3, 0.9, 9)):\n",
    "    plt.plot(k_d[k], color='tab:orange', alpha=alpha)\n",
    "plt.plot(k_d[-1], color='tab:orange', label='distribution at t={}'.format(K))\n",
    "plt.plot(limit_d, '.', color='black', label='limit distribution');\n",
    "plt.legend()\n",
    "plt.title('Convergence of distribution')\n",
    "plt.show()"
   ]
  },
  {
   "cell_type": "code",
   "execution_count": null,
   "metadata": {},
   "outputs": [],
   "source": []
  }
 ],
 "metadata": {
  "kernelspec": {
   "display_name": "Python 3",
   "language": "python",
   "name": "python3"
  },
  "language_info": {
   "codemirror_mode": {
    "name": "ipython",
    "version": 3
   },
   "file_extension": ".py",
   "mimetype": "text/x-python",
   "name": "python",
   "nbconvert_exporter": "python",
   "pygments_lexer": "ipython3",
   "version": "3.7.4"
  }
 },
 "nbformat": 4,
 "nbformat_minor": 4
}
