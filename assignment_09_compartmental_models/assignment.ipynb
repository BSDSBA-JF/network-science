{
 "cells": [
  {
   "cell_type": "markdown",
   "id": "3c5c2fe5",
   "metadata": {},
   "source": [
    "# Assignment — Compartmental Epidemic Models"
   ]
  },
  {
   "cell_type": "code",
   "execution_count": null,
   "id": "22529776",
   "metadata": {},
   "outputs": [],
   "source": [
    "from zlib import adler32\n",
    "import matplotlib.pyplot as plt\n",
    "import numpy as np"
   ]
  },
  {
   "cell_type": "markdown",
   "id": "522206a3",
   "metadata": {},
   "source": [
    "### Task 1. Euler method for ODE (1.0 points)"
   ]
  },
  {
   "cell_type": "markdown",
   "id": "14307cc3",
   "metadata": {},
   "source": [
    "Euler method is a simple numerical procedure for solving ordinary differential equations (ODEs) with a given initial values.  For example, if we want to solve an equation\n",
    "\n",
    "$$dx/dt = \\sin(x)$$\n",
    "\n",
    "with initial value $x = x_0$, we can subtitute $dx = \\Delta x = x_{i+1} - x_{i}$ and $dt = \\Delta t$, therefore we obtain\n",
    "\n",
    "$$\\frac{x_{i+1} - x_i}{\\Delta t} = \\sin(x)$$ \n",
    "$$x_{i+1} = x_i + \\sin(x)\\Delta t$$\n",
    "\n",
    "Let $\\Delta t = 0.1$, and then we can solve the equation using this iterative form as follows"
   ]
  },
  {
   "cell_type": "code",
   "execution_count": null,
   "id": "6cbf66b5",
   "metadata": {},
   "outputs": [],
   "source": [
    "def solve_sinx(x0, dt, k):\n",
    "    x = x0\n",
    "    solution = [x0]\n",
    "    for _ in range(k):\n",
    "        dx = np.sin(x) * dt\n",
    "        x = x + dx\n",
    "        solution.append(x)\n",
    "    return solution"
   ]
  },
  {
   "cell_type": "code",
   "execution_count": null,
   "id": "98677b81",
   "metadata": {},
   "outputs": [],
   "source": [
    "dt = 0.1\n",
    "for x0 in np.linspace(1, 12, 100):\n",
    "    solution = solve_sinx(x0, dt, 70)\n",
    "    plt.plot(solution, c='tab:blue', alpha=0.3);\n",
    "plt.xlabel('t')\n",
    "plt.ylabel('x')\n",
    "plt.show()"
   ]
  },
  {
   "cell_type": "markdown",
   "id": "c1a6b338",
   "metadata": {},
   "source": [
    "Assume that we want to solve the famous chaotic Lorenz System:\n",
    "\n",
    "$$\n",
    "\\begin{cases}\n",
    "\\frac{dx}{dt} = \\sigma(y-x)\\\\\n",
    "\\frac{dy}{dt} = x(\\rho - z) - y\\\\\n",
    "\\frac{dz}{dt} = xy - \\beta z\\\\\n",
    "\\end{cases}\n",
    "$$\n",
    "\n",
    "with parameters $\\rho = 28$, $\\sigma = 10$, $\\beta = 8/3$ and initial values $x = y = z = 10$.\n",
    "\n",
    "Write a function `lorenz` that takes initial values, parameters, time increment `dt`, number of iterations `k` and returns np.array with solution of the form `[[x0, y0, z0], [x1, y1, z1], ...]` so that number of rows is `k+1`."
   ]
  },
  {
   "cell_type": "code",
   "execution_count": null,
   "id": "58e66357",
   "metadata": {
    "deletable": false,
    "nbgrader": {
     "cell_type": "code",
     "checksum": "65d07739b04c26c05ceadb3840a858e8",
     "grade": false,
     "grade_id": "cell-eed3b935125812f1",
     "locked": false,
     "schema_version": 3,
     "solution": true,
     "task": false
    }
   },
   "outputs": [],
   "source": [
    "def lorenz(x0, y0, z0, rho, sigma, beta, dt, k):\n",
    "    # YOUR CODE HERE\n",
    "    raise NotImplementedError()"
   ]
  },
  {
   "cell_type": "code",
   "execution_count": null,
   "id": "d0f7f3c6",
   "metadata": {
    "deletable": false,
    "editable": false,
    "nbgrader": {
     "cell_type": "code",
     "checksum": "44c9d164c8a1d06be37f74d0248548be",
     "grade": true,
     "grade_id": "cell-06598fd0a7b7e4cf",
     "locked": true,
     "points": 1.0,
     "schema_version": 3,
     "solution": false,
     "task": false
    }
   },
   "outputs": [],
   "source": [
    "sim = lorenz(10., 10., 10., 28., 10., 8/3, 0.01, 8000-1)\n",
    "assert sim.shape == (8000, 3)\n",
    "assert np.all(sim[0] == [10, 10, 10])\n",
    "assert np.all(sim[1].round(2) == [10., 11.7, 10.73])\n",
    "assert np.all(sim[2].round(2) == [10.17, 13.31, 11.62])\n",
    "assert adler32(str(sim[3].round(2)[0]).encode()) == 48496892"
   ]
  },
  {
   "cell_type": "code",
   "execution_count": null,
   "id": "5fe65a61",
   "metadata": {},
   "outputs": [],
   "source": [
    "fig = plt.figure(figsize=(8, 8))\n",
    "ax = plt.axes(projection='3d')\n",
    "xs, ys, zs = sim[:, 0], sim[:, 1], sim[:, 2]\n",
    "ax.plot(xs, ys, zs, lw=0.3)\n",
    "plt.title('Solution of the Lorenz System')\n",
    "ax.set_xlabel('x')\n",
    "ax.set_ylabel('y')\n",
    "ax.set_zlabel('z')\n",
    "plt.show()"
   ]
  },
  {
   "cell_type": "markdown",
   "id": "1a528b69",
   "metadata": {},
   "source": [
    "### Task 2. SI model (1.0 points)"
   ]
  },
  {
   "cell_type": "markdown",
   "id": "3aee1f58",
   "metadata": {},
   "source": [
    "Consider a simple model of an epidemic — SI model. S — susceptible, I — infectious. Initialy we only have a few infected persons and all others are susceptible. Then some susceptible people become infected with infection rate $\\beta$. The model is defined as follows:\n",
    "\n",
    "Dynamic form\n",
    "\n",
    "$$S \\underset{\\beta \\frac{S}{N}I}{\\to} I$$\n",
    "\n",
    "Equation form\n",
    "\n",
    "$$\\frac{dI}{dt} = \\beta \\frac{S}{N}I$$\n",
    "\n",
    "$$S + I = N$$\n",
    "\n",
    "where $N$ is the total population.\n",
    "\n",
    "Write a function `si_epidemic` that takes the total population `total`, number of infected people `I0`, infected rate `beta`, time increment `dt`, number of iterations `k` and returns a returns np.array with solution of the form `[[S0, I0], [S1, I1], ...]` so that number of rows is k+1."
   ]
  },
  {
   "cell_type": "code",
   "execution_count": null,
   "id": "2affdd61",
   "metadata": {
    "deletable": false,
    "nbgrader": {
     "cell_type": "code",
     "checksum": "98e0c3bea693bf84a419664ec1bc43e8",
     "grade": false,
     "grade_id": "cell-e2b1ffa27b6efcb5",
     "locked": false,
     "schema_version": 3,
     "solution": true,
     "task": false
    }
   },
   "outputs": [],
   "source": [
    "def si_epidemic(total, I0, beta, dt, k):\n",
    "    # YOUR CODE HERE\n",
    "    raise NotImplementedError()"
   ]
  },
  {
   "cell_type": "code",
   "execution_count": null,
   "id": "c0eac2f7",
   "metadata": {
    "deletable": false,
    "editable": false,
    "nbgrader": {
     "cell_type": "code",
     "checksum": "17b30f2417b9433a731c39bbc9660b45",
     "grade": true,
     "grade_id": "cell-e17107636e2ee9ea",
     "locked": true,
     "points": 1.0,
     "schema_version": 3,
     "solution": false,
     "task": false
    }
   },
   "outputs": [],
   "source": [
    "solution = si_epidemic(total=1000, I0=1, beta=0.3, dt=0.5, k=130-1)\n",
    "assert solution.shape == (130, 2)\n",
    "assert np.all(solution[0] == [999, 1])\n",
    "assert np.all(solution[10].round(2) == [995.97, 4.03])\n",
    "assert np.all(solution[-1].round(2) == [0, 1000])\n",
    "assert adler32(str(solution[100].round(2)[0]).encode()) == 32047304"
   ]
  },
  {
   "cell_type": "code",
   "execution_count": null,
   "id": "d2d18a6e",
   "metadata": {},
   "outputs": [],
   "source": [
    "plt.plot(solution)\n",
    "plt.legend(['S', 'I'])\n",
    "plt.title('SI model, infected rate is 0.3')\n",
    "plt.xlabel('time')\n",
    "plt.ylabel('population')\n",
    "plt.show()"
   ]
  },
  {
   "cell_type": "markdown",
   "id": "443aedc6",
   "metadata": {},
   "source": [
    "Let us look at the plot of epidemic dynamics with the same setup but $\\beta = 0.1$."
   ]
  },
  {
   "cell_type": "code",
   "execution_count": null,
   "id": "fa9c6f82",
   "metadata": {},
   "outputs": [],
   "source": [
    "solution = si_epidemic(total=1000, I0=1, beta=0.1, dt=0.5, k=130-1)\n",
    "plt.plot(solution)\n",
    "plt.legend(['S', 'I'])\n",
    "plt.title('SI model, infected rate is 0.1')\n",
    "plt.xlabel('time')\n",
    "plt.ylabel('population')\n",
    "plt.show()"
   ]
  },
  {
   "cell_type": "markdown",
   "id": "b53caef2",
   "metadata": {},
   "source": [
    "### Task 3. Numerical vs analytical solution of SI model (1.5 points)"
   ]
  },
  {
   "cell_type": "markdown",
   "id": "64af3169",
   "metadata": {},
   "source": [
    "The SI model has an analytical solution\n",
    "\n",
    "$$i(t) = \\frac{i_0}{i_0 + (1 - i_0)e^{-\\beta t}}$$\n",
    "\n",
    "where $i(t)$ is the share of infected people at time moment $t$. Let us compare the analytical solution and Euler method.\n",
    "\n",
    "Write a function `si_epidemic_analytically` that takes the total population `total`, number of infected people `I0`, infected rate `beta`, time increment `dt`, number of iterations `k` and returns np.array `[[S0, I0], [S1, I1], ...]` is an analytical solution so that number of rows is `k+1`."
   ]
  },
  {
   "cell_type": "code",
   "execution_count": null,
   "id": "e308061a",
   "metadata": {
    "deletable": false,
    "nbgrader": {
     "cell_type": "code",
     "checksum": "818992273d73810cc4fed72ce777837e",
     "grade": false,
     "grade_id": "cell-0f02d04eb19a8af6",
     "locked": false,
     "schema_version": 3,
     "solution": true,
     "task": false
    }
   },
   "outputs": [],
   "source": [
    "def si_epidemic_analytically(total, I0, beta, dt, k):\n",
    "    # YOUR CODE HERE\n",
    "    raise NotImplementedError()"
   ]
  },
  {
   "cell_type": "code",
   "execution_count": null,
   "id": "d14140f6",
   "metadata": {
    "deletable": false,
    "editable": false,
    "nbgrader": {
     "cell_type": "code",
     "checksum": "8a2f4795a21279914d83a1b3db4acc69",
     "grade": true,
     "grade_id": "cell-2abb7e112d301cfb",
     "locked": true,
     "points": 1.5,
     "schema_version": 3,
     "solution": false,
     "task": false
    }
   },
   "outputs": [],
   "source": [
    "analytical_solution = si_epidemic_analytically(total=1000, I0=1, beta=0.3, dt=0.5, k=130-1)\n",
    "assert analytical_solution.shape == (130, 2)\n",
    "assert np.all(analytical_solution[0] == [999, 1])\n",
    "assert np.all(analytical_solution[10].round(2) == [995.53, 4.47])\n",
    "assert np.all(analytical_solution[-1].round(2) == [0, 1000])\n",
    "assert adler32(str(analytical_solution[100].round(2)[0]).encode()) == 31785155"
   ]
  },
  {
   "cell_type": "code",
   "execution_count": null,
   "id": "d01f8396",
   "metadata": {},
   "outputs": [],
   "source": [
    "solution = si_epidemic(total=1000, I0=1, beta=0.2, dt=0.5, k=130-1)\n",
    "analytical_solution = si_epidemic_analytically(total=1000, I0=1, beta=0.2, dt=0.5, k=130-1)\n",
    "plt.plot(solution[:, 1], label='I, numerical solution')\n",
    "plt.plot(analytical_solution[:, 1], label='I, analytical solution')\n",
    "plt.legend()\n",
    "plt.title('SI model, infected rate is 0.3')\n",
    "plt.xlabel('time')\n",
    "plt.ylabel('population')\n",
    "plt.show()"
   ]
  },
  {
   "cell_type": "markdown",
   "id": "70731fb1",
   "metadata": {},
   "source": [
    "### Task 4. SIS model (1.5 points)"
   ]
  },
  {
   "cell_type": "markdown",
   "id": "7c710345",
   "metadata": {},
   "source": [
    "Next, consider SIS model. S — susceptible, I — infectious. At the next time moment, some susceptible people become infected with infection rate $\\beta$ and some infected people become susceptible with recovery rate $\\gamma$. The model is defined as follows:\n",
    "\n",
    "Dynamic form\n",
    "\n",
    "$$S \\underset{\\beta S I}{\\to} I \\underset{\\gamma I}{\\to} S$$\n",
    "\n",
    "Equation form\n",
    "\n",
    "$$\\frac{dI}{dt} = \\beta \\frac{S}{N}I - \\gamma I$$\n",
    "\n",
    "$$S + I = N$$\n",
    "\n",
    "where $N$ is the total population. \n",
    "\n",
    "Write a function `sis_epidemic` that takes the total population `total`, number of infected people `I0`, infected rate `beta`, recovery rate `gamma`, time increment `dt`, number of iterations `k` and returns a solution of the form of a np.array\n",
    "\n",
    "`[[S0, I0], [S1, I1], ...]`\n",
    "\n",
    "so that number of rows is `k+1`."
   ]
  },
  {
   "cell_type": "code",
   "execution_count": null,
   "id": "6a50f02c",
   "metadata": {
    "deletable": false,
    "nbgrader": {
     "cell_type": "code",
     "checksum": "5662ff3fc74904d933fabcc4a41b9a85",
     "grade": false,
     "grade_id": "cell-c2dd6ac011d8b8e6",
     "locked": false,
     "schema_version": 3,
     "solution": true,
     "task": false
    }
   },
   "outputs": [],
   "source": [
    "def sis_epidemic(total, I0, beta, gamma, dt, k):\n",
    "    # YOUR CODE HERE\n",
    "    raise NotImplementedError()"
   ]
  },
  {
   "cell_type": "code",
   "execution_count": null,
   "id": "6bc4fc1d",
   "metadata": {
    "deletable": false,
    "editable": false,
    "nbgrader": {
     "cell_type": "code",
     "checksum": "3c7a20bfca851295a5e590938df69991",
     "grade": true,
     "grade_id": "cell-f63bbbea1c0f44c7",
     "locked": true,
     "points": 1.5,
     "schema_version": 3,
     "solution": false,
     "task": false
    }
   },
   "outputs": [],
   "source": [
    "total = 1000\n",
    "beta, gamma = 0.3, 0.1\n",
    "solution = sis_epidemic(total=total, I0=100, beta=beta, gamma=gamma, dt=0.2, k=600-1)\n",
    "assert solution.shape == (600, 2)\n",
    "assert np.all(solution[0] == [900, 100])\n",
    "assert np.all(solution[10].round(2) == [861.63, 138.37])\n",
    "assert solution[-1, 1].round(2) == round((1 - gamma / beta) * total, 2)\n",
    "assert adler32(str(solution[100].round(2)[0]).encode()) == 72548667"
   ]
  },
  {
   "cell_type": "markdown",
   "id": "4ca59292",
   "metadata": {},
   "source": [
    "Here is the critical point for a basic reproduction number $R_0 = \\beta / \\gamma$\n",
    "\n",
    "* If $R_0 > 1$: Endemic State,  $i(+\\infty) \\to (1 - \\gamma / \\beta)$\n",
    "* If $R_0 < 1$: Disease-free State, $i(+\\infty) \\to 0$\n",
    "\n",
    "where $i(t)$ is the share of infected people at the time moment $t$."
   ]
  },
  {
   "cell_type": "code",
   "execution_count": null,
   "id": "8f1521d2",
   "metadata": {},
   "outputs": [],
   "source": [
    "plt.plot(solution)\n",
    "limit = (1 - gamma / beta) * total\n",
    "plt.plot([0, 600], [limit, limit], '--', c='black')\n",
    "plt.legend(['S', 'I', 'N(1 - gamma / beta)'])\n",
    "plt.title('SIS model, Endemic State, R_0 is {:.2f}'.format(beta / gamma))\n",
    "plt.xlabel('time')\n",
    "plt.ylabel('population')\n",
    "plt.show()"
   ]
  },
  {
   "cell_type": "code",
   "execution_count": null,
   "id": "5418a844",
   "metadata": {},
   "outputs": [],
   "source": [
    "beta, gamma = 0.1, 0.3\n",
    "solution = sis_epidemic(total=total, I0=100, beta=beta, gamma=gamma, dt=0.2, k=100-1)\n",
    "plt.plot(solution)\n",
    "limit = (1 - gamma / beta) * total\n",
    "plt.legend(['S', 'I'])\n",
    "plt.title('SIS model, Disease-free State, R_0 is {:.2f}'.format(beta / gamma))\n",
    "plt.xlabel('time')\n",
    "plt.ylabel('population')\n",
    "plt.show()"
   ]
  },
  {
   "cell_type": "markdown",
   "id": "c8876f3e",
   "metadata": {},
   "source": [
    "### Task 5. SIR model (1.5 points)"
   ]
  },
  {
   "cell_type": "markdown",
   "id": "1ffa0ddd",
   "metadata": {},
   "source": [
    "The next model is SIR. S — susceptible, I — infectious, R — recovered people. Initialy we only have a few infected persons and others are susceptible. Then some susceptible people become infected with infection rate $\\beta$ and some infected people recover with recovery rate $\\gamma$. There is no chance to infect after recovering. The model is defined as follows:\n",
    "\n",
    "Dynamic form\n",
    "\n",
    "$$S \\underset{\\beta SI}{\\to} I \\underset{\\gamma I}{\\to} R$$\n",
    "\n",
    "Equation form (in proportions of the population)\n",
    "\n",
    "$$\\begin{cases}\n",
    "ds/dt = -\\beta si\\\\\n",
    "di/dt = \\beta si - \\gamma i\\\\\n",
    "dr/dt = \\gamma i\\\\\n",
    "s+i+r = 1\n",
    "\\end{cases}$$\n",
    "\n",
    "Write a function `sir_epidemic` that takes an initial proportion `s0`, `i0`, `r0`, infection rate `beta`, recovery rate `gamma`, a number of steps `k` and time increment `dt`. The function returns np.array of shape `(k+1, 3)` with `s`, `i`, `r` proportion in each step. The first row contains an initial proportion."
   ]
  },
  {
   "cell_type": "code",
   "execution_count": null,
   "id": "80b0d6d0",
   "metadata": {
    "deletable": false,
    "nbgrader": {
     "cell_type": "code",
     "checksum": "d6f79dcf0fdad5c4a3f1c2d6158c80d8",
     "grade": false,
     "grade_id": "cell-d04d4c7e210cc9b4",
     "locked": false,
     "schema_version": 3,
     "solution": true,
     "task": false
    }
   },
   "outputs": [],
   "source": [
    "def sir_epidemic(s0, i0, r0, beta, gamma, k, dt):\n",
    "    # YOUR CODE HERE\n",
    "    raise NotImplementedError()"
   ]
  },
  {
   "cell_type": "code",
   "execution_count": null,
   "id": "dd984b59",
   "metadata": {
    "deletable": false,
    "editable": false,
    "nbgrader": {
     "cell_type": "code",
     "checksum": "629ba5d839e2d87837a01d329fa62c78",
     "grade": true,
     "grade_id": "cell-ba03ef4271e82af1",
     "locked": true,
     "points": 1.5,
     "schema_version": 3,
     "solution": false,
     "task": false
    }
   },
   "outputs": [],
   "source": [
    "s0, i0, r0 = 0.99, 0.01, 0\n",
    "beta, gamma = 0.6, 0.1\n",
    "dt = 1\n",
    "epidemic = sir_epidemic(s0, i0, r0, beta, gamma, 80, dt)\n",
    "assert epidemic.shape == (81, 3)\n",
    "assert np.all(epidemic[0] == [0.99, 0.01, 0.  ])\n",
    "assert np.all(epidemic[5].round(2) == [0.92, 0.07, 0.01])\n",
    "assert np.all(epidemic[80].round(2) == [0, 0, 1])\n",
    "assert adler32(str(epidemic[10].round(2)[1]).encode()) == 32112840"
   ]
  },
  {
   "cell_type": "markdown",
   "id": "fe939351",
   "metadata": {},
   "source": [
    "Here is also the critical point for a basic reproduction number $R_0 = \\beta / \\gamma$\n",
    "\n",
    "* If $R_0 > 1$: Endemic State,  $r(+\\infty) \\to 1$\n",
    "* If $R_0 < 1$: Disease-free State, $r(+\\infty) \\to \\text{const}$\n",
    "\n",
    "where $r(t)$ is the share of recovered people at the time moment $t$."
   ]
  },
  {
   "cell_type": "code",
   "execution_count": null,
   "id": "7fbb6d8c",
   "metadata": {},
   "outputs": [],
   "source": [
    "plt.plot(epidemic)\n",
    "plt.legend(['S', 'I', 'R']);\n",
    "plt.title('SIR model, Endemic State, R_0 is {:.2f}'.format(beta/gamma))\n",
    "plt.xlabel('time')\n",
    "plt.ylabel('proportion')\n",
    "plt.show()"
   ]
  },
  {
   "cell_type": "code",
   "execution_count": null,
   "id": "a5a94f2d",
   "metadata": {},
   "outputs": [],
   "source": [
    "s0, i0, r0 = 0.7, 0.3, 0.\n",
    "dt = 1\n",
    "beta, gamma = 0.1, 0.3\n",
    "epidemic = sir_epidemic(s0, i0, r0, beta, gamma, 80, dt)\n",
    "plt.plot(epidemic)\n",
    "plt.legend(['S', 'I', 'R']);\n",
    "plt.title('SIR model, Disease-free State, R_0 is {:.2f}'.format(beta/gamma))\n",
    "plt.xlabel('time')\n",
    "plt.ylabel('proportion')\n",
    "plt.show()"
   ]
  },
  {
   "cell_type": "markdown",
   "id": "eaeba94e",
   "metadata": {},
   "source": [
    "### Task 6. SIRS model (1.5 points)"
   ]
  },
  {
   "cell_type": "markdown",
   "id": "0da4873b",
   "metadata": {},
   "source": [
    "The next model is SIRS, that is the same as SIR with an exception that recovered people lose their immunity with rate $\\delta$. The dynamic form is\n",
    "\n",
    "$$S \\underset{\\beta SI}{\\to} I \\underset{\\gamma I}{\\to} R \\underset{\\delta R}{\\to} S$$\n",
    "\n",
    "Try to find an equation form using a dynamic form and implement this model.\n",
    "\n",
    "Write a function `sirs_epidemic` that takes an initial proportion of `s0`, `i0`, `r0`, infection rate `beta`, recovery rate `gamma`, loss of immunity rate `delta`, a number of steps `k` and time increment `dt`. The function returns np.array of shape `(k+1, 3)` with `s`, `i`, `r` proportion in each step. The first row contains an initial proportion."
   ]
  },
  {
   "cell_type": "code",
   "execution_count": null,
   "id": "40ad6e46",
   "metadata": {
    "deletable": false,
    "nbgrader": {
     "cell_type": "code",
     "checksum": "8765321a6b5eb5b8498fee08aff3250e",
     "grade": false,
     "grade_id": "cell-eba7d91414cad02e",
     "locked": false,
     "schema_version": 3,
     "solution": true,
     "task": false
    }
   },
   "outputs": [],
   "source": [
    "def sirs_epidemic(s0, i0, r0, beta, gamma, delta, k, dt):\n",
    "    # YOUR CODE HERE\n",
    "    raise NotImplementedError()"
   ]
  },
  {
   "cell_type": "code",
   "execution_count": null,
   "id": "4a6c3420",
   "metadata": {
    "deletable": false,
    "editable": false,
    "nbgrader": {
     "cell_type": "code",
     "checksum": "dbfa0a78e2ee2ab216d97464657b42ce",
     "grade": true,
     "grade_id": "cell-0209c67f0351dd21",
     "locked": true,
     "points": 1.5,
     "schema_version": 3,
     "solution": false,
     "task": false
    }
   },
   "outputs": [],
   "source": [
    "s0, i0, r0 = 0.9, 0.1, 0\n",
    "beta, gamma, delta = 0.7, 0.3, 0.03\n",
    "dt = 1\n",
    "epidemic = sirs_epidemic(s0, i0, r0, beta, gamma, delta, 200, dt)\n",
    "assert epidemic.shape == (201, 3)\n",
    "assert np.all(epidemic[0] == [0.9, 0.1, 0])\n",
    "assert np.all(epidemic[5].round(2) == [0.48, 0.27, 0.25])\n",
    "assert np.all(epidemic[80].round(2) == [0.39, 0.05, 0.56])\n",
    "assert np.all(epidemic[200].round(2) == [0.43, 0.05, 0.52])\n",
    "assert adler32(str(epidemic[10].round(2).max()).encode()) == 32506060"
   ]
  },
  {
   "cell_type": "code",
   "execution_count": null,
   "id": "20ea461f",
   "metadata": {},
   "outputs": [],
   "source": [
    "cases = [[0.5, 0.20, 0.005, 2000],\n",
    "         [0.4, 0.20, 0.002, 2000],\n",
    "         [0.4, 0.01, 0.010, 300 ],\n",
    "         [0.3, 0.11, 0.100, 100 ],\n",
    "         [0.6, 0.10, 0.000, 80  ]]\n",
    "for beta, gamma, delta, k in cases:\n",
    "    epidemic = sirs_epidemic(s0, i0, r0, beta, gamma, delta, k, dt)\n",
    "    plt.plot(epidemic)\n",
    "    plt.legend(['S', 'I', 'R'])\n",
    "    plt.xlabel('time')\n",
    "    plt.ylabel('proportion')\n",
    "    plt.title('SIRS model, beta={}, gamma={}, delta={}'.format(beta, gamma, delta, k))\n",
    "    plt.show()"
   ]
  },
  {
   "cell_type": "markdown",
   "id": "ea1112d0",
   "metadata": {},
   "source": [
    "### Task 7. Fitting SIR model (2.0 points)"
   ]
  },
  {
   "cell_type": "markdown",
   "id": "26cb0a0a",
   "metadata": {},
   "source": [
    "Let us numerically estimate parameters of SIR model. In the current task we will define two functions: `sir_error` and `fit_sir`. The first one estimates the RMSE error between real data and SIR model. The second one minimizes the error and returns the best parameters `beta` and `gamma` for SIR model.\n",
    "\n",
    "Write a function `sir_error` that takes SIR parameters `(beta, gamma)` and the data of the form `[[s0, i0, r0], [s1, i1, r1], ...]`. It returns RMSE error between I in the data and I from the model. Initial values of SIR are first values in the data."
   ]
  },
  {
   "cell_type": "code",
   "execution_count": null,
   "id": "c74cab94",
   "metadata": {
    "deletable": false,
    "nbgrader": {
     "cell_type": "code",
     "checksum": "ac1b93ebd469a68a70180ccf61980680",
     "grade": false,
     "grade_id": "cell-5e3467572171be80",
     "locked": false,
     "schema_version": 3,
     "solution": true,
     "task": false
    }
   },
   "outputs": [],
   "source": [
    "def sir_error(params, dt, data):\n",
    "    # YOUR CODE HERE\n",
    "    raise NotImplementedError()"
   ]
  },
  {
   "cell_type": "code",
   "execution_count": null,
   "id": "f5a06cc4",
   "metadata": {
    "deletable": false,
    "editable": false,
    "nbgrader": {
     "cell_type": "code",
     "checksum": "ab8c378cfec1050c45a3f3d30a3ac911",
     "grade": true,
     "grade_id": "cell-0888a0fec0a20410",
     "locked": true,
     "points": 1.0,
     "schema_version": 3,
     "solution": false,
     "task": false
    }
   },
   "outputs": [],
   "source": [
    "data = np.array([\n",
    "    [0.999, 0.001, 0.000],\n",
    "    [0.996, 0.002, 0.002],\n",
    "    [0.990, 0.004, 0.006],\n",
    "])\n",
    "beta, gamma = 0.3, 0.2\n",
    "assert round(sir_error((beta, gamma), dt=1, data=data), 4) == 0.0017\n",
    "assert round(sir_error((beta, gamma), dt=0.1, data=data), 4) == 0.0018"
   ]
  },
  {
   "cell_type": "markdown",
   "id": "ce1ea8e3",
   "metadata": {},
   "source": [
    "Write a function `fit_sir` that takes dt and the data of the form `[[s0, i0, r0], [s1, i1, r2], ...]`. It fits parameters minimizing `sir_error` and returns the best beta and gamma. You can use any available numerical optmizers such as L-BFGS-B in `scipy.optimize.minimize`."
   ]
  },
  {
   "cell_type": "code",
   "execution_count": null,
   "id": "19845eb6",
   "metadata": {
    "deletable": false,
    "nbgrader": {
     "cell_type": "code",
     "checksum": "773f2f244764ae3a1f04d02d67cb8d94",
     "grade": false,
     "grade_id": "cell-dc00b115b0ea756d",
     "locked": false,
     "schema_version": 3,
     "solution": true,
     "task": false
    }
   },
   "outputs": [],
   "source": [
    "def fit_sir(dt, data):\n",
    "    # YOUR CODE HERE\n",
    "    raise NotImplementedError()"
   ]
  },
  {
   "cell_type": "code",
   "execution_count": null,
   "id": "be73f67a",
   "metadata": {
    "deletable": false,
    "editable": false,
    "nbgrader": {
     "cell_type": "code",
     "checksum": "911c1a29866ec3524be556312d6ff579",
     "grade": true,
     "grade_id": "cell-5f7e9336e8a27dac",
     "locked": true,
     "points": 1.0,
     "schema_version": 3,
     "solution": false,
     "task": false
    }
   },
   "outputs": [],
   "source": [
    "dt = 0.5\n",
    "data = sir_epidemic(s0=0.99, i0=0.01, r0=0.00, beta=0.7, gamma=0.1, k=100, dt=dt)\n",
    "beta, gamma = fit_sir(dt, data[:10])\n",
    "assert sir_error((beta, gamma), dt, data) < 0.00001\n",
    "np.random.seed(0)\n",
    "data = data + np.random.randn(*data.shape) * 0.01\n",
    "for train_len in [10, 20, 30]:\n",
    "    beta, gamma = fit_sir(dt, data[:train_len])\n",
    "    fitted_sir = sir_epidemic(s0=0.99, i0=0.01, r0=0.00, beta=beta, gamma=gamma, k=100, dt=dt)\n",
    "    assert np.all(fitted_sir >= 0) and np.all(fitted_sir <= 1)"
   ]
  },
  {
   "cell_type": "markdown",
   "id": "b1c00507",
   "metadata": {},
   "source": [
    "Now let us simulate an epidemic with some noise and see how the epidemic forecasting changes with respect to the length of train period."
   ]
  },
  {
   "cell_type": "code",
   "execution_count": null,
   "id": "589cebf8",
   "metadata": {},
   "outputs": [],
   "source": [
    "for train_len in [10, 20, 30]:\n",
    "    beta, gamma = fit_sir(dt, data[:train_len])\n",
    "    fitted_sir = sir_epidemic(s0=0.99, i0=0.01, r0=0.00, beta=beta, gamma=gamma, k=100, dt=dt)\n",
    "    plt.scatter(np.arange(data.shape[0]), data[:, 1], s=5, label='Infected in the data')\n",
    "    plt.plot(fitted_sir[:, 1], label='Fitted infected', color='tab:green')\n",
    "    plt.vlines(train_len, 0, 1, linestyles='--', color='gray', label='The end of the train period')\n",
    "    plt.legend()\n",
    "    plt.title(f'Forecast on first {train_len} observations')\n",
    "    plt.show()"
   ]
  },
  {
   "cell_type": "code",
   "execution_count": null,
   "id": "b019f262",
   "metadata": {},
   "outputs": [],
   "source": []
  }
 ],
 "metadata": {
  "kernelspec": {
   "display_name": "Python 3",
   "language": "python",
   "name": "python3"
  },
  "language_info": {
   "codemirror_mode": {
    "name": "ipython",
    "version": 3
   },
   "file_extension": ".py",
   "mimetype": "text/x-python",
   "name": "python",
   "nbconvert_exporter": "python",
   "pygments_lexer": "ipython3",
   "version": "3.7.4"
  }
 },
 "nbformat": 4,
 "nbformat_minor": 5
}
