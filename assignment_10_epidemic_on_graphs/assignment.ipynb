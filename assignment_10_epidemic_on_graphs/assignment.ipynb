{
 "cells": [
  {
   "cell_type": "markdown",
   "id": "6568e247",
   "metadata": {},
   "source": [
    "# Assignment — Epidemics on graphs"
   ]
  },
  {
   "cell_type": "code",
   "execution_count": null,
   "id": "d99ec6b8",
   "metadata": {},
   "outputs": [],
   "source": [
    "import networkx as nx\n",
    "import numpy as np\n",
    "from tqdm.notebook import trange\n",
    "import matplotlib.pyplot as plt"
   ]
  },
  {
   "cell_type": "markdown",
   "id": "3aa1e42c",
   "metadata": {},
   "source": [
    "### Task 1. SIS on networks (2 points)"
   ]
  },
  {
   "cell_type": "markdown",
   "id": "c2852418",
   "metadata": {},
   "source": [
    "Let us consider epidemic models on networks. SIS model is described by a dynamic form\n",
    "\n",
    "$$S \\to_{\\beta SI} I \\to_{\\gamma I} S$$\n",
    "\n",
    "To model epidemics on networks, we need to use probabilistic approach. First, let us define a function that gives us a random sample of available nodes by given probability.\n",
    "\n",
    "Here is a function `select_nodes` that takes a np.array `vec`, where an i-th element is a number of neighbors that can affect to i-th node with probability `proba`. For example, `vec` can represent the number of infected neighbors, say [0, 2, 1] and then the probability is an infected rate $\\beta$. That means the first node has no infected neighbors, the second has two infected neighbors, the third has one infected neighbor. Thereby, the second node has a $(1 - (1-\\beta)^2)$ probability of getting infected."
   ]
  },
  {
   "cell_type": "code",
   "execution_count": null,
   "id": "90bf918a",
   "metadata": {},
   "outputs": [],
   "source": [
    "def select_nodes(vec, proba):\n",
    "    sample = np.random.rand(len(vec))\n",
    "    res = sample < (1 - (1 - proba)**vec)\n",
    "    return res.astype('int')"
   ]
  },
  {
   "cell_type": "markdown",
   "id": "b077f2eb",
   "metadata": {},
   "source": [
    "Let us infect a few random nodes and simulate a propogation of an epidemic.\n",
    "\n",
    "Write a function `sis_networks` that takes a graph `G`, np.array with an initial indicator vector `S` where `S[i]` is 1 if i-th node is susceptible and 0 otherwise (the same for `I`). Any node must be susceptible or infected at any step. Also the function takes rates `beta`, `gamma`, number of steps `k`. The function returns a np.array of shape `(k+1, 2, n)` where `n` is a number of nodes. At i-th step, the matrix `result[i, :, :]` contains indicator `S` in the first column and `I` in the second.\n",
    "\n",
    "_Hint: to calculate the number of infected neighbors, use `I @ A * S`_"
   ]
  },
  {
   "cell_type": "code",
   "execution_count": null,
   "id": "a45d9940",
   "metadata": {
    "deletable": false,
    "nbgrader": {
     "cell_type": "code",
     "checksum": "e2ba308354e47b60dfab4f0157cd6086",
     "grade": false,
     "grade_id": "cell-ef6a0916349c86dd",
     "locked": false,
     "schema_version": 3,
     "solution": true,
     "task": false
    }
   },
   "outputs": [],
   "source": [
    "def sis_networks(G, S, I, beta, gamma, k):\n",
    "    # YOUR CODE HERE\n",
    "    raise NotImplementedError()"
   ]
  },
  {
   "cell_type": "code",
   "execution_count": null,
   "id": "2899eea2",
   "metadata": {
    "deletable": false,
    "editable": false,
    "nbgrader": {
     "cell_type": "code",
     "checksum": "634539b2b2a10e8145f068e2e5af90e1",
     "grade": true,
     "grade_id": "cell-5cf71c10ff7077f8",
     "locked": true,
     "points": 2.0,
     "schema_version": 3,
     "solution": false,
     "task": false
    }
   },
   "outputs": [],
   "source": [
    "G = nx.barabasi_albert_graph(30, 2, seed=0)\n",
    "\n",
    "I = np.zeros(len(G))\n",
    "I[:3] = 1\n",
    "S = 1 - I\n",
    "beta = 0.2\n",
    "gamma = 0.2\n",
    "\n",
    "epidemic = sis_networks(G, S, I, beta, gamma, 100)\n",
    "assert epidemic.sum() == 3030\n",
    "assert epidemic.shape == (101, 2, 30)\n",
    "assert (epidemic.sum(axis=1) == 1).sum() == 3030\n",
    "assert 8.2271 < round(epidemic.sum(axis=2)[:, 0].mean(), 4) < 15.8452\n",
    "assert 14.2177 < round(epidemic.sum(axis=2)[:, 1].mean(), 4) < 21.7279"
   ]
  },
  {
   "cell_type": "code",
   "execution_count": null,
   "id": "acf056a4",
   "metadata": {},
   "outputs": [],
   "source": [
    "epidemic = sis_networks(\n",
    "    G, S, I, beta=0.1, gamma=0.05, k=100)\n",
    "plt.plot(epidemic.sum(axis=2))\n",
    "plt.title('SIS dynamic')\n",
    "plt.legend(['S', 'I']);"
   ]
  },
  {
   "cell_type": "code",
   "execution_count": null,
   "id": "0be9841a",
   "metadata": {},
   "outputs": [],
   "source": [
    "plt.figure(figsize=(7*2, 5*3))\n",
    "pos = nx.kamada_kawai_layout(G)\n",
    "i = 1\n",
    "for S, I in epidemic[:6]:\n",
    "    plt.subplot(3, 2, i)\n",
    "    nodes = nx.draw_networkx_nodes(G, pos, \n",
    "            node_size=400,\n",
    "            node_color=I+1, \n",
    "            vmin=0, vmax=2, \n",
    "            cmap=plt.cm.rainbow,\n",
    "            edgecolors='black')\n",
    "    nx.draw_networkx_edges(G, pos,\n",
    "            width=0.5,\n",
    "            node_size=400)\n",
    "    nx.draw_networkx_labels(G, pos)\n",
    "    plt.title('Step {}'.format(i))\n",
    "    plt.legend(nodes.legend_elements()[0], ['Susceptible', 'Infected'])\n",
    "    plt.axis('off')\n",
    "    i += 1"
   ]
  },
  {
   "cell_type": "markdown",
   "id": "04a5b57a",
   "metadata": {},
   "source": [
    "### Task 2. SIRS on networks (2 points)"
   ]
  },
  {
   "cell_type": "markdown",
   "id": "27d8717d",
   "metadata": {},
   "source": [
    "Let us implement SIRS node-level model\n",
    "$$S \\to_{\\beta SI} I \\to_{\\gamma I} R \\to_{\\delta R} S$$\n",
    "\n",
    "Write a function `sirs_networks` that takes a graph `G`, np.array with initial indicator `S` where `S[i]` is 1 if i-th node is susceptible and 0 otherwise (the same for `I` and `R`). Also the function takes rates `beta`, `gamma`, `delta`, number of steps `k`. The function returns a np.array of shape `(k+1, 3, n)` where `n` is a number of nodes. At i-th step, the matrix `result[i, :, :]` contains indicator `S` in the first column, `I` in the second, `R` in the third."
   ]
  },
  {
   "cell_type": "code",
   "execution_count": null,
   "id": "33703699",
   "metadata": {
    "deletable": false,
    "nbgrader": {
     "cell_type": "code",
     "checksum": "b6363c1341ac751bb4b138825869590a",
     "grade": false,
     "grade_id": "cell-019204d21b0147e4",
     "locked": false,
     "schema_version": 3,
     "solution": true,
     "task": false
    }
   },
   "outputs": [],
   "source": [
    "def sirs_networks(G, S, I, R, beta, gamma, delta, k):\n",
    "    # YOUR CODE HERE\n",
    "    raise NotImplementedError()"
   ]
  },
  {
   "cell_type": "code",
   "execution_count": null,
   "id": "4e94f8ab",
   "metadata": {
    "deletable": false,
    "editable": false,
    "nbgrader": {
     "cell_type": "code",
     "checksum": "f564c5285f491d51a5fdf1ded5c93c79",
     "grade": true,
     "grade_id": "cell-09257c476b1763a0",
     "locked": true,
     "points": 2.0,
     "schema_version": 3,
     "solution": false,
     "task": false
    }
   },
   "outputs": [],
   "source": [
    "G = nx.barabasi_albert_graph(30, 2, seed=0)\n",
    "I = np.zeros(len(G))\n",
    "I[:3] = 1\n",
    "S = 1 - I\n",
    "R = np.zeros(len(G))\n",
    "\n",
    "epidemic = sirs_networks(G, S, I, R, beta=0.1, gamma=0.05, delta=0.01, k=1000)\n",
    "assert epidemic.shape == (1001, 3, 30)\n",
    "assert (epidemic.sum(axis=1) == 1).sum() == 1001 * 30\n",
    "assert np.all(epidemic[0].sum(axis=1) == (27, 3, 0))\n",
    "assert np.all(epidemic[-1].sum(axis=1) == (30, 0, 0))\n",
    "assert epidemic[0:20, 2].sum() > 0\n",
    "\n",
    "for k in range(6):\n",
    "    for node in G.nodes:\n",
    "        if epidemic[k, 0, node] > epidemic[k+1, 0, node]:\n",
    "            assert epidemic[k+1, 1, node] == 1\n",
    "            neighbors = np.array([n for n in G.neighbors(node)])\n",
    "            assert epidemic[k, 1][neighbors].sum()\n",
    "        elif epidemic[k, 1, node] > epidemic[k+1, 1, node]:\n",
    "            assert epidemic[k+1, 2, node] == 1\n",
    "        elif epidemic[k, 2, node] > epidemic[k+1, 2, node]:\n",
    "            assert epidemic[k+1, 0, node] == 1"
   ]
  },
  {
   "cell_type": "code",
   "execution_count": null,
   "id": "c0f187c5",
   "metadata": {},
   "outputs": [],
   "source": [
    "epidemic = sirs_networks(\n",
    "    G, S, I, R, beta=0.05, gamma=0.03, delta=0.01, k=500)\n",
    "plt.plot(epidemic.sum(axis=2))\n",
    "plt.title('SIRS dynamic')\n",
    "plt.legend(['S', 'I', 'R']);"
   ]
  },
  {
   "cell_type": "code",
   "execution_count": null,
   "id": "cdbeb288",
   "metadata": {},
   "outputs": [],
   "source": [
    "epidemic = sirs_networks(\n",
    "    G, S, I, R, beta=0.5, gamma=0.3, delta=0.1, k=6)\n",
    "plt.figure(figsize=(7*2, 5*3))\n",
    "pos = nx.kamada_kawai_layout(G)\n",
    "i = 1\n",
    "for S, I, R in epidemic[:6]:\n",
    "    plt.subplot(3, 2, i)\n",
    "    nodes = nx.draw_networkx_nodes(G, pos, \n",
    "            node_size=400,\n",
    "            node_color=(S + I*2), \n",
    "            vmin=0, vmax=2, \n",
    "            cmap=plt.cm.rainbow,\n",
    "            edgecolors='black')\n",
    "    nx.draw_networkx_edges(G, pos,\n",
    "            width=0.5,\n",
    "            node_size=400)\n",
    "    nx.draw_networkx_labels(G, pos)\n",
    "    plt.title('Step {}'.format(i))\n",
    "    if len(nodes.legend_elements()[0]) == 2:\n",
    "        plt.legend(\n",
    "            nodes.legend_elements()[0], \n",
    "            ['Susceptible', 'Infected'])\n",
    "    else:\n",
    "        plt.legend(\n",
    "            nodes.legend_elements()[0], \n",
    "            ['Recovered', 'Susceptible', 'Infected'])\n",
    "    plt.axis('off')\n",
    "    i += 1"
   ]
  },
  {
   "cell_type": "markdown",
   "id": "593df952",
   "metadata": {},
   "source": [
    "### Task 3. Random immunization in SIS (2 points)"
   ]
  },
  {
   "cell_type": "markdown",
   "id": "bf8eb92c",
   "metadata": {},
   "source": [
    "Immunization strategies specify how vaccines, treatments or drugs are distributed in the population. Ideally, should a treatment or vaccine exist, it should be given to every infected individual or those at risk of contracting the pathogen. However, it is costly to vaccinate all risky people. Given these constraints, immunization strategies aim to minimize the threat of a pandemic by most effectively distributing the available vaccines or treatments. Let us see how different vaccination strategies affect epidemics under SIS model on netwoks.\n",
    "\n",
    "Random immunization in the network means isolation of randomly selected nodes, that is removing all their adjacent edges. Write a function `random_immunization_sis` that takes the share of immunized nodes `share`, parameters of SIS model and returns a tuple:\n",
    "* list of immune nodes\n",
    "* SIS model output\n",
    "\n",
    "Do not change the input graph."
   ]
  },
  {
   "cell_type": "code",
   "execution_count": null,
   "id": "1059e9a8",
   "metadata": {
    "deletable": false,
    "nbgrader": {
     "cell_type": "code",
     "checksum": "ac6f7d123f8a861efd5bef6556591aaf",
     "grade": false,
     "grade_id": "cell-bc1bec0a8c4d951e",
     "locked": false,
     "schema_version": 3,
     "solution": true,
     "task": false
    }
   },
   "outputs": [],
   "source": [
    "def random_immunization_sis(G, S, I, share, beta, gamma, k):\n",
    "    # YOUR CODE HERE\n",
    "    raise NotImplementedError()"
   ]
  },
  {
   "cell_type": "code",
   "execution_count": null,
   "id": "f0000387",
   "metadata": {
    "deletable": false,
    "editable": false,
    "nbgrader": {
     "cell_type": "code",
     "checksum": "f7630d10f3622b2282068a916edf4190",
     "grade": true,
     "grade_id": "cell-9f4b83c197371ffc",
     "locked": true,
     "points": 2.0,
     "schema_version": 3,
     "solution": false,
     "task": false
    }
   },
   "outputs": [],
   "source": [
    "G = nx.barabasi_albert_graph(30, 2, seed=0)\n",
    "I = np.zeros(len(G))\n",
    "I[:5] = 1\n",
    "S = 1 - I\n",
    "immune_nodes, epidemic = random_immunization_sis(\n",
    "    G, S, I, share=1.0, beta=0.2, gamma=0.1, k=1)\n",
    "assert G.number_of_edges() == 56\n",
    "assert immune_nodes.shape[0] == 30\n",
    "immune_nodes, epidemic = random_immunization_sis(\n",
    "    G, S, I, share=0.0, beta=0.2, gamma=0.1, k=1)\n",
    "assert immune_nodes.shape[0] == 0\n",
    "unique_nodes = set()\n",
    "for _ in range(100):\n",
    "    immune_nodes, epidemic = random_immunization_sis(\n",
    "        G, S, I, share=0.1, beta=0.2, gamma=0.1, k=1)\n",
    "    unique_nodes = unique_nodes.union(immune_nodes)\n",
    "assert len(unique_nodes) == 30\n",
    "G = nx.complete_graph(4)\n",
    "I = np.array([1, 0, 0, 0])\n",
    "S = 1 - I\n",
    "n_infected = []\n",
    "for _ in range(100):\n",
    "    immune_nodes, epidemic = random_immunization_sis(\n",
    "        G, S, I, share=0.25, beta=1.0, gamma=0.0, k=1)\n",
    "    if 0 in immune_nodes:\n",
    "        assert epidemic[-1, 1].sum() == 1\n",
    "    else:\n",
    "        assert epidemic[-1, 1].sum() == 3"
   ]
  },
  {
   "cell_type": "markdown",
   "id": "14d52810",
   "metadata": {},
   "source": [
    "Let us see how the random immunization works on networks."
   ]
  },
  {
   "cell_type": "code",
   "execution_count": null,
   "id": "ae373d47",
   "metadata": {},
   "outputs": [],
   "source": [
    "G = nx.barabasi_albert_graph(30, 2, seed=0)\n",
    "I = np.zeros(len(G))\n",
    "I[:5] = 1\n",
    "S = 1 - I\n",
    "immune_nodes, epidemic = random_immunization_sis(\n",
    "    G, S, I, share=0.1, beta=0.2, gamma=0.1, k=6)\n",
    "plt.figure(figsize=(7*2, 5*3))\n",
    "pos = nx.kamada_kawai_layout(G)\n",
    "i = 1\n",
    "for S_i, I_i in epidemic[:6]:\n",
    "    colors = I_i + 1\n",
    "    colors[immune_nodes] = -1\n",
    "    plt.subplot(3, 2, i)\n",
    "    nodes = nx.draw_networkx_nodes(G, pos, \n",
    "            node_size=400,\n",
    "            node_color=colors, \n",
    "            vmin=0, vmax=2, \n",
    "            cmap=plt.cm.rainbow,\n",
    "            edgecolors='black')\n",
    "    nx.draw_networkx_edges(G, pos,\n",
    "            width=0.5,\n",
    "            node_size=400)\n",
    "    nx.draw_networkx_labels(G, pos)\n",
    "    plt.title('Step {}'.format(i))\n",
    "    plt.legend(nodes.legend_elements()[0], ['Immune', 'Susceptible', 'Infected'])\n",
    "    plt.axis('off')\n",
    "    i += 1"
   ]
  },
  {
   "cell_type": "code",
   "execution_count": null,
   "id": "feb7e827",
   "metadata": {},
   "outputs": [],
   "source": [
    "plt.figure(figsize=(6*2, 4*2))\n",
    "plt.subplots_adjust(hspace=0.3)\n",
    "G = nx.barabasi_albert_graph(100, 2, seed=0)\n",
    "I = np.zeros(len(G))\n",
    "I[:20] = 1\n",
    "S = 1 - I\n",
    "i = 1\n",
    "for share in np.linspace(0, 1, 4):\n",
    "    plt.subplot(2, 2, i)\n",
    "    i += 1\n",
    "    immune, epidemic = random_immunization_sis(\n",
    "        G, S, I, share, beta=0.15, gamma=0.1, k=100)\n",
    "    plt.plot(epidemic.mean(axis=2))\n",
    "    plt.title(f\"SIS random immunization with rate {share:.2f}\")\n",
    "    plt.legend(['S', 'I'])\n",
    "    plt.ylim(0, 1)"
   ]
  },
  {
   "cell_type": "markdown",
   "id": "32002a58",
   "metadata": {},
   "source": [
    "### Task 4. Selective immunization in SIS (2 points)"
   ]
  },
  {
   "cell_type": "markdown",
   "id": "36d2f08e",
   "metadata": {},
   "source": [
    "Selective immunization is a strategy to select some important persons to be vaccinated. Let they be the most \"famous\" people.\n",
    "\n",
    "Selective immunization in the network means isolation of highest degree nodes, that is removing all their adjacent edges. Write a function `selective_immunization_sis` that takes the share of immunized nodes `share`, parameters of SIS model and returns a tuple:\n",
    "* list of immune nodes\n",
    "* SIS model output\n",
    "\n",
    "Do not change the input graph."
   ]
  },
  {
   "cell_type": "code",
   "execution_count": null,
   "id": "103247a0",
   "metadata": {
    "deletable": false,
    "nbgrader": {
     "cell_type": "code",
     "checksum": "5f3411cb9387db4fe55fb203c3c6fadc",
     "grade": false,
     "grade_id": "cell-d820db5de6d03db3",
     "locked": false,
     "schema_version": 3,
     "solution": true,
     "task": false
    }
   },
   "outputs": [],
   "source": [
    "def selective_immunization_sis(G, S, I, share, beta, gamma, k):\n",
    "    # YOUR CODE HERE\n",
    "    raise NotImplementedError()"
   ]
  },
  {
   "cell_type": "code",
   "execution_count": null,
   "id": "73701d50",
   "metadata": {
    "deletable": false,
    "editable": false,
    "nbgrader": {
     "cell_type": "code",
     "checksum": "899f3562bdf70841d38f48a041c761ee",
     "grade": true,
     "grade_id": "cell-de06ac7069acd130",
     "locked": true,
     "points": 2.0,
     "schema_version": 3,
     "solution": false,
     "task": false
    }
   },
   "outputs": [],
   "source": [
    "G = nx.barabasi_albert_graph(30, 2, seed=0)\n",
    "I = np.zeros(len(G))\n",
    "I[:5] = 1\n",
    "S = 1 - I\n",
    "immune_nodes, epidemic = selective_immunization_sis(\n",
    "    G, S, I, share=0.5, beta=0.2, gamma=0.1, k=1)\n",
    "assert G.number_of_edges() == 56\n",
    "assert immune_nodes.shape[0] == 15\n",
    "assert np.sum(sorted(nx.to_numpy_array(G).sum(axis=1), reverse=True)[:15]) \\\n",
    "    == nx.to_numpy_array(G)[immune_nodes].sum()"
   ]
  },
  {
   "cell_type": "markdown",
   "id": "e286ec2b",
   "metadata": {},
   "source": [
    "Let us see how the selective immunization works on networks."
   ]
  },
  {
   "cell_type": "code",
   "execution_count": null,
   "id": "1a083989",
   "metadata": {},
   "outputs": [],
   "source": [
    "G = nx.barabasi_albert_graph(30, 2, seed=0)\n",
    "I = np.zeros(len(G))\n",
    "I[:5] = 1\n",
    "S = 1 - I\n",
    "immune_nodes, epidemic = selective_immunization_sis(\n",
    "    G, S, I, share=0.1, beta=0.2, gamma=0.1, k=6)\n",
    "plt.figure(figsize=(7*2, 5*3))\n",
    "pos = nx.kamada_kawai_layout(G)\n",
    "i = 1\n",
    "for S_i, I_i in epidemic[:6]:\n",
    "    colors = I_i + 1\n",
    "    colors[immune_nodes] = -1\n",
    "    plt.subplot(3, 2, i)\n",
    "    nodes = nx.draw_networkx_nodes(G, pos, \n",
    "            node_size=400,\n",
    "            node_color=colors, \n",
    "            vmin=0, vmax=2, \n",
    "            cmap=plt.cm.rainbow,\n",
    "            edgecolors='black')\n",
    "    nx.draw_networkx_edges(G, pos,\n",
    "            width=0.5,\n",
    "            node_size=400)\n",
    "    nx.draw_networkx_labels(G, pos)\n",
    "    plt.title('Step {}'.format(i))\n",
    "    plt.legend(nodes.legend_elements()[0], ['Immune', 'Susceptible', 'Infected'])\n",
    "    plt.axis('off')\n",
    "    i += 1"
   ]
  },
  {
   "cell_type": "code",
   "execution_count": null,
   "id": "79b53b70",
   "metadata": {},
   "outputs": [],
   "source": [
    "plt.figure(figsize=(6*2, 4*2))\n",
    "plt.subplots_adjust(hspace=0.3)\n",
    "G = nx.barabasi_albert_graph(100, 2, seed=0)\n",
    "I = np.zeros(len(G))\n",
    "I[:20] = 1\n",
    "S = 1 - I\n",
    "i = 1\n",
    "for share in np.linspace(0, 1, 4):\n",
    "    plt.subplot(2, 2, i)\n",
    "    i += 1\n",
    "    immune, epidemic = selective_immunization_sis(\n",
    "        G, S, I, share, beta=0.15, gamma=0.1, k=100)\n",
    "    plt.plot(epidemic.mean(axis=2))\n",
    "    plt.title(f\"SIS selective immunization with rate {share:.2f}\")\n",
    "    plt.legend(['S', 'I'])\n",
    "    plt.ylim(0, 1)"
   ]
  },
  {
   "cell_type": "markdown",
   "id": "a3b316f5",
   "metadata": {},
   "source": [
    "### Task 5. Self-isolation strategy in SIS (2 points)"
   ]
  },
  {
   "cell_type": "markdown",
   "id": "b4e75718",
   "metadata": {},
   "source": [
    "Self-isolation is close to the random immunization — we make some individuals invisible to the virus for a period.\n",
    "\n",
    "Self-isolation in the network means isolation of some random nodes, that is removing all their adjacent edges for a period and then recover deleted edges. Write a function `self_isolation_sis` that takes the share of nodes `share`, period of self-isolation `period`, parameters of SIS model and returns a tuple:\n",
    "* list of self-isolated nodes\n",
    "* SIS model output\n",
    "\n",
    "Do not change the input graph."
   ]
  },
  {
   "cell_type": "code",
   "execution_count": null,
   "id": "9f3cfe40",
   "metadata": {
    "deletable": false,
    "nbgrader": {
     "cell_type": "code",
     "checksum": "dd947c8926453847904b966233fcc4b7",
     "grade": false,
     "grade_id": "cell-6a99af1318fc0cd5",
     "locked": false,
     "schema_version": 3,
     "solution": true,
     "task": false
    }
   },
   "outputs": [],
   "source": [
    "def self_isolation_sis(G, S, I, share, period, beta, gamma, k):\n",
    "    # YOUR CODE HERE\n",
    "    raise NotImplementedError()"
   ]
  },
  {
   "cell_type": "code",
   "execution_count": null,
   "id": "0b0c9426",
   "metadata": {
    "deletable": false,
    "editable": false,
    "nbgrader": {
     "cell_type": "code",
     "checksum": "9aa71f8d8eab4eb6b1496694f51c0c29",
     "grade": true,
     "grade_id": "cell-a88e64365d7f1c0c",
     "locked": true,
     "points": 2.0,
     "schema_version": 3,
     "solution": false,
     "task": false
    }
   },
   "outputs": [],
   "source": [
    "G = nx.barabasi_albert_graph(30, 2, seed=0)\n",
    "I = np.zeros(len(G))\n",
    "I[:5] = 1\n",
    "S = 1 - I\n",
    "immune_nodes, epidemic = self_isolation_sis(\n",
    "    G, S, I, share=0.5, period=10, beta=0.2, gamma=0.1, k=100)\n",
    "assert G.number_of_edges() == 56\n",
    "assert immune_nodes.shape[0] == 15\n",
    "assert epidemic.shape == (101, 2, 30)\n",
    "epidemic_i = epidemic[:, 1].sum(axis=1)\n",
    "assert epidemic_i[:11].mean() * 2 < epidemic_i[12:].mean()"
   ]
  },
  {
   "cell_type": "code",
   "execution_count": null,
   "id": "bdf78d28",
   "metadata": {},
   "outputs": [],
   "source": [
    "G = nx.barabasi_albert_graph(30, 2, seed=0)\n",
    "I = np.zeros(len(G))\n",
    "I[:5] = 1\n",
    "S = 1 - I\n",
    "immune_nodes, epidemic = self_isolation_sis(\n",
    "    G, S, I, share=0.3, period=2, beta=0.2, gamma=0.1, k=6)\n",
    "plt.figure(figsize=(7*2, 5*3))\n",
    "pos = nx.kamada_kawai_layout(G)\n",
    "i = 1\n",
    "for step, (S, I) in enumerate(epidemic[:6]):\n",
    "    colors = I + 1\n",
    "    legend = ['Susceptible', 'Infected']\n",
    "    if step < 3:\n",
    "        colors[immune_nodes] = -1\n",
    "        legend = ['Isolated', 'Susceptible', 'Infected']\n",
    "    plt.subplot(3, 2, i)\n",
    "    nodes = nx.draw_networkx_nodes(G, pos, \n",
    "            node_size=400,\n",
    "            node_color=colors, \n",
    "            vmin=0, vmax=2, \n",
    "            cmap=plt.cm.rainbow,\n",
    "            edgecolors='black')\n",
    "    nx.draw_networkx_edges(G, pos,\n",
    "            width=0.5,\n",
    "            node_size=400)\n",
    "    nx.draw_networkx_labels(G, pos)\n",
    "    plt.title('Step {}'.format(i))\n",
    "    plt.legend(nodes.legend_elements()[0], legend)\n",
    "    plt.axis('off')\n",
    "    i += 1"
   ]
  },
  {
   "cell_type": "code",
   "execution_count": null,
   "id": "f2f312bf",
   "metadata": {},
   "outputs": [],
   "source": [
    "plt.figure(figsize=(6*2, 4*2))\n",
    "plt.subplots_adjust(hspace=0.3)\n",
    "G = nx.barabasi_albert_graph(100, 2, seed=0)\n",
    "I = np.zeros(len(G))\n",
    "I[:20] = 1\n",
    "S = 1 - I\n",
    "i = 1\n",
    "for share in np.linspace(0, 1, 4):\n",
    "    plt.subplot(2, 2, i)\n",
    "    i += 1\n",
    "    immune, epidemic = self_isolation_sis(\n",
    "        G, S, I, share, period=40, beta=0.15, gamma=0.1, k=100)\n",
    "    plt.plot(epidemic.mean(axis=2))\n",
    "    plt.title(f\"SIS self-isolation with rate {share:.2f}\")\n",
    "    plt.legend(['S', 'I'])\n",
    "    plt.ylim(0, 1)"
   ]
  },
  {
   "cell_type": "markdown",
   "id": "5be0296b",
   "metadata": {},
   "source": [
    "Here we can see that high self-isolated rate of population delays a case when all people to be infected."
   ]
  },
  {
   "cell_type": "code",
   "execution_count": null,
   "id": "e50d9ce3",
   "metadata": {},
   "outputs": [],
   "source": [
    "plt.figure(figsize=(6*2, 4*2))\n",
    "plt.subplots_adjust(hspace=0.3)\n",
    "G = nx.barabasi_albert_graph(100, 2, seed=0)\n",
    "I = np.zeros(len(G))\n",
    "I[:20] = 1\n",
    "S = 1 - I\n",
    "i = 1\n",
    "for period in [0, 10, 50, 80]:\n",
    "    plt.subplot(2, 2, i)\n",
    "    i += 1\n",
    "    immune, epidemic = self_isolation_sis(\n",
    "        G, S, I, share=0.6, period=period, beta=0.15, gamma=0.1, k=100)\n",
    "    plt.plot(epidemic.mean(axis=2))\n",
    "    plt.title(f\"SIS self-isolation with period {period}\")\n",
    "    plt.legend(['S', 'I'])\n",
    "    plt.ylim(0, 1)"
   ]
  },
  {
   "cell_type": "code",
   "execution_count": null,
   "id": "fb93586e",
   "metadata": {},
   "outputs": [],
   "source": []
  }
 ],
 "metadata": {
  "kernelspec": {
   "display_name": "Python 3",
   "language": "python",
   "name": "python3"
  },
  "language_info": {
   "codemirror_mode": {
    "name": "ipython",
    "version": 3
   },
   "file_extension": ".py",
   "mimetype": "text/x-python",
   "name": "python",
   "nbconvert_exporter": "python",
   "pygments_lexer": "ipython3",
   "version": "3.7.4"
  }
 },
 "nbformat": 4,
 "nbformat_minor": 5
}
